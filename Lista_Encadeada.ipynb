{
  "nbformat": 4,
  "nbformat_minor": 0,
  "metadata": {
    "colab": {
      "provenance": [],
      "collapsed_sections": [],
      "authorship_tag": "ABX9TyNtbewplI91jii6zXOFtPGN",
      "include_colab_link": true
    },
    "kernelspec": {
      "name": "python3",
      "display_name": "Python 3"
    },
    "language_info": {
      "name": "python"
    }
  },
  "cells": [
    {
      "cell_type": "markdown",
      "metadata": {
        "id": "view-in-github",
        "colab_type": "text"
      },
      "source": [
        "<a href=\"https://colab.research.google.com/github/MarceloZanguettin/ControledeFluxo/blob/main/Lista_Encadeada.ipynb\" target=\"_parent\"><img src=\"https://colab.research.google.com/assets/colab-badge.svg\" alt=\"Open In Colab\"/></a>"
      ]
    },
    {
      "cell_type": "markdown",
      "source": [
        "<h1>Algoritmos Avançados</H1>\n",
        "<h2>Lista Encadeada</H2>\n",
        "<p>Prof. Dr.: Adriano Sunao Nakamura <br> Data: 16/02/2022 - Criação de Lista Encadeada e Inserção de nós e ponteiros</p>\n",
        "<br> Data: 17/02/2022 - Remoção de Nós e ponteiros</p>\n",
        "<br> Data: 23/02/2022 - Lista Ordenada</p>"
      ],
      "metadata": {
        "id": "BTzTWKcckmVW"
      }
    },
    {
      "cell_type": "code",
      "execution_count": null,
      "metadata": {
        "id": "Ai3Aj8r6kO-z"
      },
      "outputs": [],
      "source": [
        "class No:\n",
        "  info=0\n",
        "  proximo=None\n",
        "  def __init__(self, info, proximo=None):\n",
        "    self.info=info\n",
        "    self.proximo=proximo"
      ]
    },
    {
      "cell_type": "code",
      "source": [
        "class Lista:\n",
        "    inicio=None\n",
        "    def __init__(self):\n",
        "        self.inicio=None\n",
        "\n",
        "    def insere_no_inicio(self, x):\n",
        "        no=No(x)\n",
        "        no.proximo=self.inicio\n",
        "        self.inicio=no\n",
        "    \n",
        "    def insere_no_fim(self, x):\n",
        "        no=No(x)\n",
        "        if(self.inicio==None):\n",
        "            self.inicio=no\n",
        "            return\n",
        "        ponteiro=self.inicio\n",
        "        while ponteiro.proximo != None:\n",
        "            ponteiro=ponteiro.proximo\n",
        "        ponteiro.proximo=no\n",
        "\n",
        "    def imprime(self):\n",
        "        ponteiro=self.inicio\n",
        "        while ponteiro != None:\n",
        "            print(ponteiro.info, \"->\")\n",
        "            ponteiro=ponteiro.proximo\n",
        "    \n",
        "    def remove_do_inicio(self):\n",
        "      if self.inicio==None:\n",
        "        return None\n",
        "      x=self.inicio.info\n",
        "      self.inicio=self.inicio.proximo\n",
        "      return x\n",
        "\n",
        "    def remove_do_fim(self):\n",
        "      if self.inicio==None:\n",
        "        return None\n",
        "      atual=self.inicio\n",
        "      anterior=None\n",
        "      while atual.proximo != None:\n",
        "        anterior=atual\n",
        "        atual=atual.proximo\n",
        "      x=atual.info\n",
        "      if anterior != None:\n",
        "        anterior.proximo=None\n",
        "      else:\n",
        "          self.inicio=None\n",
        "      return x\n",
        "\n",
        "    def localiza(self, n):\n",
        "      atual=self.inicio\n",
        "      while atual != None and atual.info != n:\n",
        "        atual=atual.proximo\n",
        "      if atual == None:\n",
        "        return False\n",
        "      else:\n",
        "        return True\n",
        "\n",
        "    def media(self):\n",
        "      soma=0\n",
        "      x=0\n",
        "      atual=self.inicio\n",
        "      media = 0\n",
        "      while atual != None:\n",
        "        soma = soma + atual.info\n",
        "        x = x + 1\n",
        "        atual=atual.proximo\n",
        "      media = soma/x\n",
        "      print(media)\n",
        "\n",
        "    def media_aritmetica(self):\n",
        "        soma=0\n",
        "        contador=0\n",
        "        atual=self.inicio\n",
        "        while atual != None:\n",
        "            contador += 1\n",
        "            soma += atual.info\n",
        "            atual=atual.proximo\n",
        "        return soma/contador\n",
        "    \n",
        "    def ocorrencia(self, n):\n",
        "      atual=self.inicio\n",
        "      x=0\n",
        "      while atual != None:\n",
        "        if atual.info == n:\n",
        "          x=x+1\n",
        "        atual=atual.proximo\n",
        "      print(\"A quantidade de vezes que esse numero aparece é de : \", x)\n",
        "\n",
        "    def conta_ocorrencia(self, n):\n",
        "        contador=0\n",
        "        atual=self.inicio\n",
        "        while atual != None:\n",
        "          if atual.info == n:\n",
        "              contador = contador + 1\n",
        "          atual=atual.proximo\n",
        "        return contador\n",
        "\n",
        "    def insere_ordenada (self, x):\n",
        "        n=No(x);\n",
        "        if self.inicio==None:\n",
        "          self.inicio=n;\n",
        "          return\n",
        "        atual=self.inicio\n",
        "        anterior=None\n",
        "        while atual != None and atual.info < n.info:\n",
        "          anterior=atual\n",
        "          atual=atual.proximo\n",
        "        if anterior != None:\n",
        "          anterior.proximo=n\n",
        "        else:\n",
        "          self.inicio=n\n",
        "        n.proximo=atual\n",
        "    \n",
        "    def remove_ordenada(self, x):\n",
        "        atual=self.inicio\n",
        "        anterior=None\n",
        "        while atual != None and atual.info < x:\n",
        "          anterior=atual\n",
        "          atual=atual.proximo\n",
        "        if atual != None and atual.info == x:\n",
        "          if anterior != None:\n",
        "            anterior.proximo=atual.proximo\n",
        "          else:\n",
        "            self.inicio=atual.proximo\n",
        "          return True\n",
        "        else:\n",
        "          return False\n"
      ],
      "metadata": {
        "id": "HEhCl586lH_E"
      },
      "execution_count": null,
      "outputs": []
    },
    {
      "cell_type": "code",
      "source": [
        "\n",
        "lista=Lista()\n",
        "lista.insere_no_inicio(5)\n",
        "lista.insere_no_inicio(8)\n",
        "lista.insere_no_inicio(4)\n",
        "lista.insere_no_fim(3)\n",
        "lista.insere_no_fim(1)\n",
        "lista.insere_no_inicio(4)\n",
        "lista.imprime()\n",
        "'''\n",
        "if lista.localiza(4):\n",
        "  print('Valor existe')\n",
        "else:\n",
        "  print('Valor não existe')\n",
        "lista.media()\n",
        "lista.ocorrencia(4)\n",
        "lista.ocorrencia(2)\n",
        "'''\n",
        "print(\"Media aritmetica: \",lista.media_aritmetica())\n",
        "x=input('Qual numero deseja contar: ')\n",
        "print('Há ', lista.conta_ocorrencia(x),' ocorrencias do numero ', x)\n",
        "\n",
        "\n",
        "'''\n",
        "print(\"\\t\",lista.remove_do_inicio())\n",
        "print(\"\\t\",lista.remove_do_fim())\n",
        "lista.imprime()\n",
        "print(\"\\t\",lista.remove_do_inicio())\n",
        "print(\"\\t\",lista.remove_do_fim())\n",
        "lista.imprime()\n",
        "'''\n",
        "'''\n",
        "lista_ordenada=Lista()\n",
        "lista_ordenada.insere_ordenada(7)\n",
        "lista_ordenada.imprime()\n",
        "print(\"\\n\")\n",
        "lista_ordenada.insere_ordenada(10)\n",
        "lista_ordenada.imprime()\n",
        "print(\"\\n\")\n",
        "lista_ordenada.insere_ordenada(3)\n",
        "lista_ordenada.imprime()\n",
        "print(\"\\n\")\n",
        "lista_ordenada.insere_ordenada(5)\n",
        "lista_ordenada.imprime()\n",
        "print(\"\\n\")\n",
        "lista_ordenada.remove_ordenada(7)\n",
        "lista_ordenada.imprime()\n",
        "print(\"\\n\")\n",
        "lista_ordenada.remove_ordenada(4)\n",
        "lista_ordenada.imprime()\n",
        "print(\"\\n\")\n",
        "'''"
      ],
      "metadata": {
        "colab": {
          "base_uri": "https://localhost:8080/",
          "height": 278
        },
        "id": "_LRiL-WStUQu",
        "outputId": "1ff0ed1f-96d6-4a83-9bf2-1fdd168d8274"
      },
      "execution_count": null,
      "outputs": [
        {
          "output_type": "stream",
          "name": "stdout",
          "text": [
            "4 ->\n",
            "4 ->\n",
            "8 ->\n",
            "5 ->\n",
            "3 ->\n",
            "1 ->\n",
            "Media aritmetica:  4.166666666666667\n",
            "Qual numero deseja contar: 4\n",
            "Há  0  ocorrencias do numero  4\n"
          ]
        },
        {
          "output_type": "execute_result",
          "data": {
            "application/vnd.google.colaboratory.intrinsic+json": {
              "type": "string"
            },
            "text/plain": [
              "'\\nlista_ordenada=Lista()\\nlista_ordenada.insere_ordenada(7)\\nlista_ordenada.imprime()\\nprint(\"\\n\")\\nlista_ordenada.insere_ordenada(10)\\nlista_ordenada.imprime()\\nprint(\"\\n\")\\nlista_ordenada.insere_ordenada(3)\\nlista_ordenada.imprime()\\nprint(\"\\n\")\\nlista_ordenada.insere_ordenada(5)\\nlista_ordenada.imprime()\\nprint(\"\\n\")\\nlista_ordenada.remove_ordenada(7)\\nlista_ordenada.imprime()\\nprint(\"\\n\")\\nlista_ordenada.remove_ordenada(4)\\nlista_ordenada.imprime()\\nprint(\"\\n\")\\n'"
            ]
          },
          "metadata": {},
          "execution_count": 14
        }
      ]
    }
  ]
}